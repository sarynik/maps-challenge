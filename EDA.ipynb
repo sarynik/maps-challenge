{
 "cells": [
  {
   "cell_type": "code",
   "execution_count": 2,
   "id": "1ba926d8",
   "metadata": {},
   "outputs": [
    {
     "name": "stderr",
     "output_type": "stream",
     "text": [
      "M:\\Python\\lib\\site-packages\\scipy\\__init__.py:146: UserWarning: A NumPy version >=1.16.5 and <1.23.0 is required for this version of SciPy (detected version 1.25.2\n",
      "  warnings.warn(f\"A NumPy version >={np_minversion} and <{np_maxversion}\"\n"
     ]
    }
   ],
   "source": [
    "import pandas as pd\n",
    "from sklearn.model_selection import train_test_split\n",
    "from sklearn.tree import DecisionTreeRegressor"
   ]
  },
  {
   "cell_type": "code",
   "execution_count": 3,
   "id": "73532126",
   "metadata": {
    "scrolled": true
   },
   "outputs": [],
   "source": [
    "df= pd.read_csv(\"public_maps (1).csv\")"
   ]
  },
  {
   "cell_type": "code",
   "execution_count": 4,
   "id": "96c97e4c",
   "metadata": {},
   "outputs": [
    {
     "data": {
      "text/plain": [
       "map_category_name\n",
       "Business         2167\n",
       "Education        5820\n",
       "Entertainment      99\n",
       "Life              439\n",
       "Other            3547\n",
       "Productivity      586\n",
       "Technology        902\n",
       "dtype: int64"
      ]
     },
     "execution_count": 4,
     "metadata": {},
     "output_type": "execute_result"
    }
   ],
   "source": [
    "df.groupby(\"map_category_name\").size()"
   ]
  },
  {
   "cell_type": "code",
   "execution_count": 5,
   "id": "95475682",
   "metadata": {},
   "outputs": [
    {
     "data": {
      "text/plain": [
       "map_rating\n",
       "10       21\n",
       "20       24\n",
       "30      112\n",
       "32       12\n",
       "33       19\n",
       "36       34\n",
       "40      117\n",
       "43       25\n",
       "45       64\n",
       "47       13\n",
       "49        7\n",
       "50    13112\n",
       "dtype: int64"
      ]
     },
     "execution_count": 5,
     "metadata": {},
     "output_type": "execute_result"
    }
   ],
   "source": [
    "df.groupby(\"map_rating\").size()"
   ]
  },
  {
   "cell_type": "code",
   "execution_count": 68,
   "id": "d047ac39",
   "metadata": {},
   "outputs": [
    {
     "data": {
      "text/html": [
       "<div>\n",
       "<style scoped>\n",
       "    .dataframe tbody tr th:only-of-type {\n",
       "        vertical-align: middle;\n",
       "    }\n",
       "\n",
       "    .dataframe tbody tr th {\n",
       "        vertical-align: top;\n",
       "    }\n",
       "\n",
       "    .dataframe thead th {\n",
       "        text-align: right;\n",
       "    }\n",
       "</style>\n",
       "<table border=\"1\" class=\"dataframe\">\n",
       "  <thead>\n",
       "    <tr style=\"text-align: right;\">\n",
       "      <th></th>\n",
       "      <th>map_id</th>\n",
       "      <th>map_title</th>\n",
       "      <th>map_rating</th>\n",
       "      <th>map_category_name</th>\n",
       "      <th>idea_id</th>\n",
       "      <th>idea_parent_id</th>\n",
       "      <th>idea_title</th>\n",
       "    </tr>\n",
       "  </thead>\n",
       "  <tbody>\n",
       "    <tr>\n",
       "      <th>0</th>\n",
       "      <td>116533</td>\n",
       "      <td>PFK/Risikomanagement</td>\n",
       "      <td>50</td>\n",
       "      <td>Business</td>\n",
       "      <td>116533</td>\n",
       "      <td>NaN</td>\n",
       "      <td>My first mindmap</td>\n",
       "    </tr>\n",
       "    <tr>\n",
       "      <th>1</th>\n",
       "      <td>116533</td>\n",
       "      <td>PFK/Risikomanagement</td>\n",
       "      <td>50</td>\n",
       "      <td>Business</td>\n",
       "      <td>116534</td>\n",
       "      <td>116533.0</td>\n",
       "      <td>Ideas for my novel ...</td>\n",
       "    </tr>\n",
       "    <tr>\n",
       "      <th>2</th>\n",
       "      <td>116533</td>\n",
       "      <td>PFK/Risikomanagement</td>\n",
       "      <td>50</td>\n",
       "      <td>Business</td>\n",
       "      <td>116535</td>\n",
       "      <td>116533.0</td>\n",
       "      <td>Welcome again!</td>\n",
       "    </tr>\n",
       "    <tr>\n",
       "      <th>3</th>\n",
       "      <td>116533</td>\n",
       "      <td>PFK/Risikomanagement</td>\n",
       "      <td>50</td>\n",
       "      <td>Business</td>\n",
       "      <td>116536</td>\n",
       "      <td>116535.0</td>\n",
       "      <td>We hope you\\'ll have fun\\nwith MindMeister ...</td>\n",
       "    </tr>\n",
       "    <tr>\n",
       "      <th>4</th>\n",
       "      <td>116533</td>\n",
       "      <td>PFK/Risikomanagement</td>\n",
       "      <td>50</td>\n",
       "      <td>Business</td>\n",
       "      <td>116537</td>\n",
       "      <td>116535.0</td>\n",
       "      <td>... and some great ideas too!</td>\n",
       "    </tr>\n",
       "  </tbody>\n",
       "</table>\n",
       "</div>"
      ],
      "text/plain": [
       "   map_id             map_title  map_rating map_category_name  idea_id  \\\n",
       "0  116533  PFK/Risikomanagement          50          Business   116533   \n",
       "1  116533  PFK/Risikomanagement          50          Business   116534   \n",
       "2  116533  PFK/Risikomanagement          50          Business   116535   \n",
       "3  116533  PFK/Risikomanagement          50          Business   116536   \n",
       "4  116533  PFK/Risikomanagement          50          Business   116537   \n",
       "\n",
       "   idea_parent_id                                      idea_title  \n",
       "0             NaN                                My first mindmap  \n",
       "1        116533.0                          Ideas for my novel ...  \n",
       "2        116533.0                                  Welcome again!  \n",
       "3        116535.0  We hope you\\'ll have fun\\nwith MindMeister ...  \n",
       "4        116535.0                   ... and some great ideas too!  "
      ]
     },
     "execution_count": 68,
     "metadata": {},
     "output_type": "execute_result"
    }
   ],
   "source": [
    "df.head()"
   ]
  },
  {
   "cell_type": "markdown",
   "id": "83957c4d",
   "metadata": {},
   "source": [
    "## The map ratings sample is heavily skewed towards 50\n",
    "\n",
    "Below, only distinct map_ids are considered. The distribution of map ratings is massively skewed towards \"50\""
   ]
  },
  {
   "cell_type": "code",
   "execution_count": 6,
   "id": "c6308af2",
   "metadata": {},
   "outputs": [
    {
     "data": {
      "text/plain": [
       "50    434\n",
       "30      7\n",
       "40      6\n",
       "45      5\n",
       "43      2\n",
       "10      2\n",
       "36      1\n",
       "49      1\n",
       "33      1\n",
       "20      1\n",
       "47      1\n",
       "32      1\n",
       "Name: map_rating, dtype: int64"
      ]
     },
     "execution_count": 6,
     "metadata": {},
     "output_type": "execute_result"
    }
   ],
   "source": [
    "df.drop_duplicates(\"map_id\")['map_rating'].value_counts() #drop duplicates selects distinct values of map_id"
   ]
  },
  {
   "cell_type": "markdown",
   "id": "25ec1913",
   "metadata": {},
   "source": [
    "## Exploring the map_category_name dsitribution\n",
    "\n",
    "\n",
    "Below is the distribution of observations for each class.\n",
    "\n",
    "Entertainment, Life and Productivity will be discarded due to the very low number of observations (<10, ~2% of the overall sample)."
   ]
  },
  {
   "cell_type": "code",
   "execution_count": 7,
   "id": "156cdf3c",
   "metadata": {},
   "outputs": [
    {
     "data": {
      "text/plain": [
       "Education        182\n",
       "Other            128\n",
       "Business          94\n",
       "Technology        35\n",
       "Life               9\n",
       "Productivity       9\n",
       "Entertainment      5\n",
       "Name: map_category_name, dtype: int64"
      ]
     },
     "execution_count": 7,
     "metadata": {},
     "output_type": "execute_result"
    }
   ],
   "source": [
    "df.drop_duplicates(\"map_id\")['map_category_name'].value_counts() #drop duplicates selects distinct values of map_id"
   ]
  },
  {
   "cell_type": "markdown",
   "id": "4b218ec6",
   "metadata": {},
   "source": [
    "The imbalance is much more manageable after dropping the categories with <10 observations. Class weights can be used to augment the loss function to  be more sensitive to the minority classes."
   ]
  },
  {
   "cell_type": "code",
   "execution_count": 80,
   "id": "2e30870d",
   "metadata": {},
   "outputs": [],
   "source": [
    "df_uniques = df.drop_duplicates(\"map_id\")"
   ]
  },
  {
   "cell_type": "code",
   "execution_count": 81,
   "id": "e880a1b2",
   "metadata": {},
   "outputs": [],
   "source": [
    "df_uniques_filtered = df_uniques[~df_uniques['map_category_name'].isin([\"Life\", \"Productivity\", \"Entertainment\"])]"
   ]
  },
  {
   "cell_type": "markdown",
   "id": "96211a3f",
   "metadata": {},
   "source": [
    "Below I've fitted a decision tree model to assess whether \"map_rating\" has any association with the \"map_category_name\". I have also included map_id and idea_id even though I presume these to be autoincrementing ids that are not expected to have genuine association with the map_category_name."
   ]
  },
  {
   "cell_type": "code",
   "execution_count": 128,
   "id": "f785a46c",
   "metadata": {},
   "outputs": [],
   "source": [
    "tree = DecisionTreeRegressor()"
   ]
  },
  {
   "cell_type": "code",
   "execution_count": 131,
   "id": "dfa2f6d0",
   "metadata": {},
   "outputs": [],
   "source": [
    "idx = df_uniques_filtered[[\"map_id\", \"idea_id\", \"map_rating\"]].dropna().index\n",
    "idx_train, idx_test = train_test_split(idx, test_size=0.2, stratify=df_uniques_filtered[[\"map_category_name\"]])\n"
   ]
  },
  {
   "cell_type": "code",
   "execution_count": 133,
   "id": "be57d11b",
   "metadata": {},
   "outputs": [
    {
     "data": {
      "text/plain": [
       "DecisionTreeRegressor()"
      ]
     },
     "execution_count": 133,
     "metadata": {},
     "output_type": "execute_result"
    }
   ],
   "source": [
    "tree.fit(df_uniques_filtered.loc[idx_train, [\"map_id\", \"idea_id\", \"map_rating\"]], pd.Series(df_uniques_filtered[\"map_category_name\"].factorize()[0], index=df_uniques_filtered.index )[idx_train])"
   ]
  },
  {
   "cell_type": "code",
   "execution_count": 135,
   "id": "4d2203eb",
   "metadata": {},
   "outputs": [
    {
     "data": {
      "text/plain": [
       "0.5795454545454546"
      ]
     },
     "execution_count": 135,
     "metadata": {},
     "output_type": "execute_result"
    }
   ],
   "source": [
    "bool_prediction_istrue_series = (pd.Series(tree.predict(df_uniques_filtered.loc[idx_test, [\"map_id\", \"idea_id\", \"map_rating\"]])) == pd.Series(df_uniques_filtered[\"map_category_name\"].factorize()[0], index=df_uniques_filtered.index)[idx_test].reset_index(drop=True))\n",
    "\n",
    "accuracy = bool_prediction_istrue_series.sum() / bool_prediction_istrue_series.shape\n",
    "accuracy[0]"
   ]
  },
  {
   "cell_type": "code",
   "execution_count": 138,
   "id": "0ffc456e",
   "metadata": {},
   "outputs": [
    {
     "data": {
      "text/plain": [
       "array([0.42425026, 0.56517177, 0.01057797])"
      ]
     },
     "execution_count": 138,
     "metadata": {},
     "output_type": "execute_result"
    }
   ],
   "source": [
    "tree.feature_importances_ # \"map_id\", \"idea_id\", \"map_rating\" "
   ]
  },
  {
   "cell_type": "markdown",
   "id": "7d8ea85f",
   "metadata": {},
   "source": [
    "According to the feature importance scores, map_rating is a poor feature for predicting the map_category_name, in contrast to map_id, idea_id which are spuriously associated at best.\n",
    "\n",
    "\n",
    "Therefore I conclude that an NLP approach will be required, modelling some combination of map_title and idea_title."
   ]
  },
  {
   "cell_type": "markdown",
   "id": "cd707391",
   "metadata": {},
   "source": [
    "## Exploring the idea_title dataset"
   ]
  },
  {
   "cell_type": "markdown",
   "id": "feccc4a7",
   "metadata": {},
   "source": [
    "There is a lot of duplicated default text such as \"My First Mind Map\" in the idea_title column. This default text will not be useful in predicting the map_category_name, so I will exclude it"
   ]
  },
  {
   "cell_type": "code",
   "execution_count": 145,
   "id": "bf652617",
   "metadata": {},
   "outputs": [
    {
     "data": {
      "text/plain": [
       "ENTER to add siblings                                                                                    192\n",
       "DEL to delete                                                                                            192\n",
       "TAB to insert (Mac OS)                                                                                   191\n",
       "... and some great ideas too!                                                                            191\n",
       "Get started!                                                                                             191\n",
       "Use toolbar to add ideas                                                                                 191\n",
       "Key shortcuts                                                                                            191\n",
       "INS to insert (Windows)                                                                                  191\n",
       "We hope you\\'ll have fun\\nwith MindMeister ...                                                           188\n",
       "Ideas for my novel ...                                                                                   183\n",
       "Welcome again!                                                                                           182\n",
       "My Geistesblitzes                                                                                        171\n",
       "My First Mind Map                                                                                        160\n",
       "New node                                                                                                 149\n",
       "All key shortcuts                                                                                         98\n",
       "Check out \\nhttp://www.mindmeister.com/services/tools/geistesblitz_widgets                                96\n",
       "Drag &amp; Drop and double-click canvas                                                                   92\n",
       "Drag &amp; Drop and\\rdouble-click canvas                                                                  81\n",
       "Find out more? Try http://www.mindmeister.com/help                                                        75\n",
       "Email &amp; SMS Gateways                                                                                  55\n",
       "Geistesblitz Tools                                                                                        54\n",
       "Find out more? Try\\rhttp://www.mindmeister.com/help                                                       52\n",
       "Offline Mode                                                                                              46\n",
       "Tools and Gadgets                                                                                         46\n",
       "Compare Editions                                                                                          46\n",
       "Get started now!                                                                                          46\n",
       "more...                                                                                                   46\n",
       "Meeting Minutes                                                                                           46\n",
       "Find out more?                                                                                            46\n",
       "Online Help                                                                                               46\n",
       "Project Plan                                                                                              46\n",
       "Use Cases &amp; Templates                                                                                 46\n",
       "Personal Todo List                                                                                        46\n",
       "Vacation Planning                                                                                         46\n",
       "My New Mind Map                                                                                           24\n",
       "Edit for LIVE                                                                                             16\n",
       "New for LIVE                                                                                              16\n",
       "Drag &amp; Drop and\\rdouble-click canvas\\rf ewifiewjf j eif\\rjweijf iwje fijwe\\rifjweijf iewjf iejwf      16\n",
       "My first mindmap                                                                                          15\n",
       "Company 1 (Location)                                                                                      12\n",
       "Name: idea_title, dtype: int64"
      ]
     },
     "execution_count": 145,
     "metadata": {},
     "output_type": "execute_result"
    }
   ],
   "source": [
    " df['idea_title'].value_counts()[:40] # drop these"
   ]
  },
  {
   "cell_type": "code",
   "execution_count": 141,
   "id": "620bd352",
   "metadata": {},
   "outputs": [
    {
     "data": {
      "text/plain": [
       "Index(['ENTER to add siblings', 'DEL to delete', 'TAB to insert (Mac OS)',\n",
       "       '... and some great ideas too!', 'Get started!',\n",
       "       'Use toolbar to add ideas', 'Key shortcuts', 'INS to insert (Windows)',\n",
       "       'We hope you\\'ll have fun\\nwith MindMeister ...',\n",
       "       'Ideas for my novel ...', 'Welcome again!', 'My Geistesblitzes',\n",
       "       'My First Mind Map', 'New node', 'All key shortcuts',\n",
       "       'Check out \\nhttp://www.mindmeister.com/services/tools/geistesblitz_widgets',\n",
       "       'Drag &amp; Drop and double-click canvas',\n",
       "       'Drag &amp; Drop and\\rdouble-click canvas',\n",
       "       'Find out more? Try http://www.mindmeister.com/help',\n",
       "       'Email &amp; SMS Gateways', 'Geistesblitz Tools',\n",
       "       'Find out more? Try\\rhttp://www.mindmeister.com/help', 'Offline Mode',\n",
       "       'Tools and Gadgets', 'Compare Editions', 'Get started now!', 'more...',\n",
       "       'Meeting Minutes', 'Find out more?', 'Online Help', 'Project Plan',\n",
       "       'Use Cases &amp; Templates', 'Personal Todo List', 'Vacation Planning',\n",
       "       'My New Mind Map', 'Edit for LIVE', 'New for LIVE',\n",
       "       'Drag &amp; Drop and\\rdouble-click canvas\\rf ewifiewjf j eif\\rjweijf iwje fijwe\\rifjweijf iewjf iejwf ',\n",
       "       'My first mindmap', 'Company 1 (Location)'],\n",
       "      dtype='object')"
      ]
     },
     "execution_count": 141,
     "metadata": {},
     "output_type": "execute_result"
    }
   ],
   "source": [
    "recurring_defult_strings = df['idea_title'].value_counts()[:40].index\n",
    "recurring_defult_strings"
   ]
  },
  {
   "cell_type": "code",
   "execution_count": 142,
   "id": "2f3d1ed5",
   "metadata": {},
   "outputs": [
    {
     "name": "stderr",
     "output_type": "stream",
     "text": [
      "C:\\Users\\user\\AppData\\Local\\Temp\\ipykernel_3692\\3430662992.py:2: SettingWithCopyWarning: \n",
      "A value is trying to be set on a copy of a slice from a DataFrame.\n",
      "Try using .loc[row_indexer,col_indexer] = value instead\n",
      "\n",
      "See the caveats in the documentation: https://pandas.pydata.org/pandas-docs/stable/user_guide/indexing.html#returning-a-view-versus-a-copy\n",
      "  df_cleaned_idea_title['text'] = df_cleaned_idea_title.groupby(\"map_id\")['idea_title'].transform(lambda x: ' [SEP] '.join(x)).drop_duplicates()\n"
     ]
    },
    {
     "data": {
      "text/plain": [
       "(251, 8)"
      ]
     },
     "execution_count": 142,
     "metadata": {},
     "output_type": "execute_result"
    }
   ],
   "source": [
    "df_cleaned_idea_title = df[~df['idea_title'].isin(recurring_defult_strings)]\n",
    "df_cleaned_idea_title['text'] = df_cleaned_idea_title.groupby(\"map_id\")['idea_title'].transform(lambda x: ' [SEP] '.join(x)).drop_duplicates()\n",
    "df_input = df_cleaned_idea_title.drop_duplicates(\"map_id\").dropna(subset=\"text\")\n",
    "df_input = df_input[~df_input['map_category_name'].isin([\"Life\", \"Productivity\", \"Entertainment\"])]\n",
    "\n",
    "df_input.shape"
   ]
  }
 ],
 "metadata": {
  "kernelspec": {
   "display_name": "Python 3 (ipykernel)",
   "language": "python",
   "name": "python3"
  },
  "language_info": {
   "codemirror_mode": {
    "name": "ipython",
    "version": 3
   },
   "file_extension": ".py",
   "mimetype": "text/x-python",
   "name": "python",
   "nbconvert_exporter": "python",
   "pygments_lexer": "ipython3",
   "version": "3.9.12"
  }
 },
 "nbformat": 4,
 "nbformat_minor": 5
}
